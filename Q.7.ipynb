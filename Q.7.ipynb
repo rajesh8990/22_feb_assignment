{
 "cells": [
  {
   "cell_type": "code",
   "execution_count": null,
   "id": "34653aff-0545-415c-9d94-0beaf41fe2e4",
   "metadata": {},
   "outputs": [],
   "source": [
    "\"\"\"\n",
    "Q.7 Create a DataFrame using multiple Series. Explain with an example.\n",
    "\n",
    "Ans. You can combine several Series into a DataFrame using the pd.DataFrame() constructor.\n",
    "     Each Series will represent a column in the DataFrame.\n",
    "\n",
    "     This code creates three Series (names, ages, countries) and then combines them into a \n",
    "     DataFrame called df using a dictionary where the keys are column names and the values \n",
    "     are the respective Series. The output will be a DataFrame with three columns:\n",
    "     'Name', 'Age', and 'Country'.\n",
    "\n"
   ]
  },
  {
   "cell_type": "code",
   "execution_count": 2,
   "id": "79e6a607-1299-4acd-82be-b46cab6e3c59",
   "metadata": {},
   "outputs": [
    {
     "name": "stdout",
     "output_type": "stream",
     "text": [
      "      Name  Age Country\n",
      "0   Rajesh   26   India\n",
      "1    Pintu   23     Usa\n",
      "2  Kamlesh   25  Mumbai\n"
     ]
    }
   ],
   "source": [
    "# import library\n",
    "import pandas as pd\n",
    "# make Maltipale series\n",
    "Name=pd.Series(['Rajesh','Pintu','Kamlesh'])\n",
    "Age=pd.Series([26,23,25])\n",
    "Country=pd.Series(['India','Usa','Mumbai'])\n",
    "# craete a data frame\n",
    "df={'Name':Name,\n",
    "   'Age':Age,\n",
    "   'Country':Country}\n",
    "result=pd.DataFrame(df)\n",
    "print(result)"
   ]
  },
  {
   "cell_type": "code",
   "execution_count": null,
   "id": "956aa7ae-4429-4f83-a84f-09f1c2e1585b",
   "metadata": {},
   "outputs": [],
   "source": []
  }
 ],
 "metadata": {
  "kernelspec": {
   "display_name": "Python 3 (ipykernel)",
   "language": "python",
   "name": "python3"
  },
  "language_info": {
   "codemirror_mode": {
    "name": "ipython",
    "version": 3
   },
   "file_extension": ".py",
   "mimetype": "text/x-python",
   "name": "python",
   "nbconvert_exporter": "python",
   "pygments_lexer": "ipython3",
   "version": "3.10.8"
  }
 },
 "nbformat": 4,
 "nbformat_minor": 5
}
