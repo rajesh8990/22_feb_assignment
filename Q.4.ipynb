{
 "cells": [
  {
   "cell_type": "code",
   "execution_count": 2,
   "id": "05797334-8618-4dc8-aae5-24074f55544a",
   "metadata": {},
   "outputs": [
    {
     "name": "stdout",
     "output_type": "stream",
     "text": [
      "     Name  Age  Gender\n",
      "0   Alise   25    male\n",
      "1     Bob   30  Female\n",
      "2  Claire   27  female\n"
     ]
    }
   ],
   "source": [
    "\"\"\"\n",
    "Q.4 What is ‘DataFrame’ in pandas and how is it different from pandas.series? \n",
    "   Explain with an example.\n",
    "   \n",
    "\n",
    "Ans. A data frame is a fundamental data structure in programming used for \n",
    "    storing and organizing data in a table-like format\n",
    "\"\"\"\n",
    "# Example\n",
    "import pandas as pd\n",
    "data={'Name':['Alise','Bob','Claire'],\n",
    "     'Age':[25,30,27],\n",
    "     'Gender':['male','Female','female']}\n",
    "result=pd.DataFrame(data)\n",
    "print(result)"
   ]
  },
  {
   "cell_type": "code",
   "execution_count": 3,
   "id": "baa34ea9-fc2c-42b7-8fe9-c730e5e31d1a",
   "metadata": {},
   "outputs": [
    {
     "name": "stdout",
     "output_type": "stream",
     "text": [
      "0     1\n",
      "1     2\n",
      "2     4\n",
      "3     5\n",
      "4    67\n",
      "5     8\n",
      "dtype: int64\n"
     ]
    }
   ],
   "source": [
    "\"\"\"\n",
    "SERIES:\n",
    "      A series is a one-dimensional labeled array-like object in pandas, a popular data\n",
    "      manipulation and analysis library in Python. \n",
    "\n",
    "\"\"\"\n",
    "# Example series\n",
    "import pandas as pd\n",
    "data=[1,2,4,5,67,8]\n",
    "result=pd.Series(data)\n",
    "print(result)"
   ]
  },
  {
   "cell_type": "code",
   "execution_count": null,
   "id": "a5f296f9-3ed5-40d0-87a8-e93d2d0b3d95",
   "metadata": {},
   "outputs": [],
   "source": []
  }
 ],
 "metadata": {
  "kernelspec": {
   "display_name": "Python 3 (ipykernel)",
   "language": "python",
   "name": "python3"
  },
  "language_info": {
   "codemirror_mode": {
    "name": "ipython",
    "version": 3
   },
   "file_extension": ".py",
   "mimetype": "text/x-python",
   "name": "python",
   "nbconvert_exporter": "python",
   "pygments_lexer": "ipython3",
   "version": "3.10.8"
  }
 },
 "nbformat": 4,
 "nbformat_minor": 5
}
