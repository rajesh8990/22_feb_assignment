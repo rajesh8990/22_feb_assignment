{
 "cells": [
  {
   "cell_type": "code",
   "execution_count": null,
   "id": "58c3cb9f-1e82-4f69-8b92-d86df7f32ce3",
   "metadata": {},
   "outputs": [],
   "source": [
    "\"\"\"\n",
    "Q.2 Create a variable of list type containing 10 elements in it, and apply pandas.\n",
    "    Series function on the variable print it.\n",
    "\n",
    "\"\"\""
   ]
  },
  {
   "cell_type": "code",
   "execution_count": 2,
   "id": "18eac6a4-e748-4d31-aa00-72f2eb974cb7",
   "metadata": {},
   "outputs": [
    {
     "name": "stdout",
     "output_type": "stream",
     "text": [
      "0    1\n",
      "1    2\n",
      "2    3\n",
      "3    4\n",
      "4    5\n",
      "5    6\n",
      "6    7\n",
      "7    8\n",
      "8    9\n",
      "9    5\n",
      "dtype: int64\n"
     ]
    }
   ],
   "source": [
    "import pandas as pd\n",
    "list1=[1,2,3,4,5,6,7,8,9,5]\n",
    "series=pd.Series(list1)\n",
    "print(series)"
   ]
  },
  {
   "cell_type": "code",
   "execution_count": null,
   "id": "9c73b1dc-fd49-4bda-b517-ff61c438bfd3",
   "metadata": {},
   "outputs": [],
   "source": []
  }
 ],
 "metadata": {
  "kernelspec": {
   "display_name": "Python 3 (ipykernel)",
   "language": "python",
   "name": "python3"
  },
  "language_info": {
   "codemirror_mode": {
    "name": "ipython",
    "version": 3
   },
   "file_extension": ".py",
   "mimetype": "text/x-python",
   "name": "python",
   "nbconvert_exporter": "python",
   "pygments_lexer": "ipython3",
   "version": "3.10.8"
  }
 },
 "nbformat": 4,
 "nbformat_minor": 5
}
