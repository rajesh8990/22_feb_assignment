{
 "cells": [
  {
   "cell_type": "code",
   "execution_count": null,
   "id": "84a247b8-7ede-41f6-a7fe-e35261c962c0",
   "metadata": {},
   "outputs": [],
   "source": [
    "\"\"\"\n",
    "Q.3 Create a Pandas DataFrame that contains the following data:\n",
    "\n",
    "\"\"\""
   ]
  },
  {
   "cell_type": "code",
   "execution_count": 2,
   "id": "ca6a2f95-766c-488c-868e-3cf12bde73d5",
   "metadata": {},
   "outputs": [
    {
     "name": "stdout",
     "output_type": "stream",
     "text": [
      "     Name  Age  Gender\n",
      "0   Alise   25    male\n",
      "1     Bob   30  Female\n",
      "2  Claire   27  female\n"
     ]
    }
   ],
   "source": [
    "import pandas as pd\n",
    "data={'Name':['Alise','Bob','Claire'],\n",
    "     'Age':[25,30,27],\n",
    "     'Gender':['male','Female','female']}\n",
    "result=pd.DataFrame(data)\n",
    "print(result)"
   ]
  },
  {
   "cell_type": "code",
   "execution_count": null,
   "id": "3c6e4c3b-a427-4e09-8ab0-d5bf270b5f4e",
   "metadata": {},
   "outputs": [],
   "source": []
  }
 ],
 "metadata": {
  "kernelspec": {
   "display_name": "Python 3 (ipykernel)",
   "language": "python",
   "name": "python3"
  },
  "language_info": {
   "codemirror_mode": {
    "name": "ipython",
    "version": 3
   },
   "file_extension": ".py",
   "mimetype": "text/x-python",
   "name": "python",
   "nbconvert_exporter": "python",
   "pygments_lexer": "ipython3",
   "version": "3.10.8"
  }
 },
 "nbformat": 4,
 "nbformat_minor": 5
}
