{
 "cells": [
  {
   "cell_type": "code",
   "execution_count": null,
   "id": "a97f28ba-2966-45cc-b717-0579e0f49fe4",
   "metadata": {},
   "outputs": [],
   "source": [
    "\"\"\"\n",
    "Q.6  Which of the following is mutable in nature Series, DataFrame, Panel?\n",
    "\n",
    "Ans. Three mutable Series,DataFrame,Paanel are Pandas\n",
    "\"\"\""
   ]
  }
 ],
 "metadata": {
  "kernelspec": {
   "display_name": "Python 3 (ipykernel)",
   "language": "python",
   "name": "python3"
  },
  "language_info": {
   "codemirror_mode": {
    "name": "ipython",
    "version": 3
   },
   "file_extension": ".py",
   "mimetype": "text/x-python",
   "name": "python",
   "nbconvert_exporter": "python",
   "pygments_lexer": "ipython3",
   "version": "3.10.8"
  }
 },
 "nbformat": 4,
 "nbformat_minor": 5
}
